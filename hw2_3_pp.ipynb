{
 "cells": [
  {
   "cell_type": "code",
   "execution_count": 2,
   "metadata": {},
   "outputs": [],
   "source": [
    "''' import ''' \n",
    "import scipy.io as io\n",
    "import numpy as np\n",
    "import numpy.linalg as la\n",
    "import matplotlib.pyplot as plt"
   ]
  },
  {
   "cell_type": "code",
   "execution_count": 3,
   "metadata": {},
   "outputs": [],
   "source": [
    "''' load data '''\n",
    "data = io.loadmat('./data/hw2_prob2.mat')\n",
    "\n",
    "A = data['A']\n",
    "M, N = A.shape"
   ]
  },
  {
   "cell_type": "code",
   "execution_count": 4,
   "metadata": {},
   "outputs": [],
   "source": [
    "''' hyper param '''\n",
    "ALPHA = 0.01\n",
    "BETA = 0.8\n",
    "EPS = 1e-10\n",
    "MAXITERS = 10000\n",
    "\n",
    "''' constraint '''\n",
    "D_max = 63\n",
    "D_min = 59\n",
    "D_95 = 60"
   ]
  },
  {
   "cell_type": "code",
   "execution_count": 5,
   "metadata": {},
   "outputs": [
    {
     "ename": "NameError",
     "evalue": "name 'x' is not defined",
     "output_type": "error",
     "traceback": [
      "\u001b[0;31m---------------------------------------------------------------------------\u001b[0m",
      "\u001b[0;31mNameError\u001b[0m                                 Traceback (most recent call last)",
      "Cell \u001b[0;32mIn[5], line 1\u001b[0m\n\u001b[0;32m----> 1\u001b[0m d \u001b[38;5;241m=\u001b[39m A\u001b[38;5;129m@x\u001b[39m\n\u001b[1;32m      2\u001b[0m v_95 \u001b[38;5;241m=\u001b[39m np\u001b[38;5;241m.\u001b[39msum(d \u001b[38;5;241m>\u001b[39m \u001b[38;5;241m95\u001b[39m)\n\u001b[1;32m      3\u001b[0m v_c \u001b[38;5;241m=\u001b[39m (v_95 \u001b[38;5;241m>\u001b[39m \u001b[38;5;28mlen\u001b[39m(d)\u001b[38;5;241m*\u001b[39m\u001b[38;5;241m0.95\u001b[39m)\n",
      "\u001b[0;31mNameError\u001b[0m: name 'x' is not defined"
     ]
    }
   ],
   "source": [
    "d = A@x\n",
    "v_95 = np.sum(d > 95)\n",
    "v_c = (v_95 > len(d)*0.95)\n",
    "\n"
   ]
  },
  {
   "cell_type": "code",
   "execution_count": null,
   "metadata": {},
   "outputs": [],
   "source": []
  },
  {
   "cell_type": "code",
   "execution_count": null,
   "metadata": {},
   "outputs": [
    {
     "ename": "ValueError",
     "evalue": "The truth value of an array with more than one element is ambiguous. Use a.any() or a.all()",
     "output_type": "error",
     "traceback": [
      "\u001b[0;31m---------------------------------------------------------------------------\u001b[0m",
      "\u001b[0;31mValueError\u001b[0m                                Traceback (most recent call last)",
      "Cell \u001b[0;32mIn[4], line 33\u001b[0m\n\u001b[1;32m     29\u001b[0m c_dvh_p \u001b[38;5;241m=\u001b[39m (D_95 \u001b[38;5;241m-\u001b[39m dp)\n\u001b[1;32m     31\u001b[0m fp \u001b[38;5;241m=\u001b[39m \u001b[38;5;28msum\u001b[39m((c_max_p \u001b[38;5;241m>\u001b[39m \u001b[38;5;241m0\u001b[39m)\u001b[38;5;241m*\u001b[39mc_max_p\u001b[38;5;241m*\u001b[39m\u001b[38;5;241m*\u001b[39m\u001b[38;5;241m2\u001b[39m \u001b[38;5;241m+\u001b[39m (c_min_p \u001b[38;5;241m>\u001b[39m \u001b[38;5;241m0\u001b[39m)\u001b[38;5;241m*\u001b[39mc_min_p\u001b[38;5;241m*\u001b[39m\u001b[38;5;241m*\u001b[39m\u001b[38;5;241m2\u001b[39m \u001b[38;5;241m+\u001b[39m (c_dvh_p \u001b[38;5;241m>\u001b[39m \u001b[38;5;241m0\u001b[39m)\u001b[38;5;241m*\u001b[39mc_dvh_p\u001b[38;5;241m*\u001b[39m\u001b[38;5;241m*\u001b[39m\u001b[38;5;241m2\u001b[39m)\n\u001b[0;32m---> 33\u001b[0m \u001b[38;5;28;01mif\u001b[39;00m (fp \u001b[38;5;241m<\u001b[39m\u001b[38;5;241m=\u001b[39m f \u001b[38;5;241m+\u001b[39m ALPHA\u001b[38;5;241m*\u001b[39mt\u001b[38;5;241m*\u001b[39mgrad\u001b[38;5;241m.\u001b[39mT\u001b[38;5;129m@delta_x\u001b[39m):\n\u001b[1;32m     34\u001b[0m     \u001b[38;5;28;01mbreak\u001b[39;00m\n\u001b[1;32m     36\u001b[0m t \u001b[38;5;241m=\u001b[39m BETA\u001b[38;5;241m*\u001b[39mt\n",
      "\u001b[0;31mValueError\u001b[0m: The truth value of an array with more than one element is ambiguous. Use a.any() or a.all()"
     ]
    }
   ],
   "source": [
    "''' with constraints (D_min, D_max, DVH) '''\n",
    "\n",
    "# gradient desent method\n",
    "f_hist = []\n",
    "\n",
    "x = np.zeros((N, 1))\n",
    "\n",
    "for i in range(MAXITERS):\n",
    "\n",
    "    # f, grad\n",
    "    d = A@x\n",
    "    c_max = (d - D_max)\n",
    "    c_min = (D_min - d)\n",
    "\n",
    "    dvh_frac = np.sum(d)\n",
    "    c_v = (dvh_frac < 0.95)\n",
    "    c_d = (d > 95)\n",
    "\n",
    "    f = (c_max > 0)*c_max**2 + (c_dvh > 0)*c_dvh**2 + (c_min > 0)*c_min**2\n",
    "    grad = 2*A.T@(c_max - c_min - c_dvh)\n",
    "\n",
    "    # search direction (delta_x)\n",
    "    delta_x = -grad\n",
    "\n",
    "    # step size (t)\n",
    "    t = 1\n",
    "    # line search\n",
    "    while True:\n",
    "        dp = A@(x + t*delta_x)\n",
    "        c_max_p = (dp - D_max)\n",
    "        c_min_p = (D_min - dp)\n",
    "        c_dvh_p = (D_95 - dp)\n",
    "        \n",
    "        fp = sum((c_max_p > 0)*c_max_p**2 + (c_min_p > 0)*c_min_p**2 + (c_dvh_p > 0)*c_dvh_p**2)\n",
    "        \n",
    "        if (fp <= f + ALPHA*t*grad.T@delta_x):\n",
    "            break\n",
    "        \n",
    "        t = BETA*t\n",
    "\n",
    "    # update x (x_k+1 = x_k + t*delta_x)\n",
    "    x = x + t*delta_x\n",
    "    \n",
    "    # history\n",
    "    f_hist.append(f)\n",
    "\n",
    "    print(f'i = {i}, f = {f}')\n",
    "\n",
    "# optimal\n",
    "x = x"
   ]
  },
  {
   "cell_type": "code",
   "execution_count": 70,
   "metadata": {},
   "outputs": [
    {
     "data": {
      "image/png": "[encoded data removed]",
      "text/plain": [
       "<Figure size 640x480 with 1 Axes>"
      ]
     },
     "metadata": {},
     "output_type": "display_data"
    }
   ],
   "source": [
    "# plot\n",
    "plt.semilogy(f_hist - f_hist[-1])\n",
    "plt.show()"
   ]
  },
  {
   "cell_type": "code",
   "execution_count": 16,
   "metadata": {},
   "outputs": [],
   "source": [
    "''' save '''\n",
    "# np.savez('./opt/hw2_3.npz', A=A, x=x, f_hist=f_hist)\n",
    "\n",
    "''' load '''\n",
    "data = np.load('./opt/hw2_3.npz')\n",
    "\n",
    "A = data['A']\n",
    "x = data['x']\n",
    "f_hist = data['f_hist']"
   ]
  },
  {
   "cell_type": "code",
   "execution_count": 77,
   "metadata": {},
   "outputs": [],
   "source": [
    "''' DVH '''\n",
    "def get_DVH_PTV(beam_kernel, beam_intensity):\n",
    "\n",
    "    dose = beam_kernel@beam_intensity\n",
    "\n",
    "    # differential DVH\n",
    "    bins = np.linspace(0, 100, 1000)\n",
    "    diff_DVH, _ = np.histogram(dose, bins=bins)\n",
    "\n",
    "    # cumulative DVH\n",
    "    cum_DVH = np.flip(np.cumsum(np.flip(diff_DVH)))\n",
    "    cum_DVH = cum_DVH / np.max(cum_DVH) # normalize\n",
    "\n",
    "    return cum_DVH"
   ]
  },
  {
   "cell_type": "code",
   "execution_count": 78,
   "metadata": {},
   "outputs": [],
   "source": [
    "# calc\n",
    "dvh = get_DVH_PTV(A, x)"
   ]
  },
  {
   "cell_type": "code",
   "execution_count": 79,
   "metadata": {},
   "outputs": [
    {
     "data": {
      "image/png": "[encoded data removed]",
      "text/plain": [
       "<Figure size 640x480 with 1 Axes>"
      ]
     },
     "metadata": {},
     "output_type": "display_data"
    }
   ],
   "source": [
    "# plot\n",
    "plt.plot(dvh, label='DVH', c='red')\n",
    "plt.vlines(D_max*10, 0, 1, label='D_max')\n",
    "plt.vlines(D_min*10, 0, 1, label='D_min')\n",
    "\n",
    "plt.xlim([400, 800])\n",
    "plt.legend()\n",
    "plt.grid()\n",
    "plt.show()"
   ]
  }
 ],
 "metadata": {
  "kernelspec": {
   "display_name": "opt",
   "language": "python",
   "name": "python3"
  },
  "language_info": {
   "codemirror_mode": {
    "name": "ipython",
    "version": 3
   },
   "file_extension": ".py",
   "mimetype": "text/x-python",
   "name": "python",
   "nbconvert_exporter": "python",
   "pygments_lexer": "ipython3",
   "version": "3.12.8"
  }
 },
 "nbformat": 4,
 "nbformat_minor": 2
}
