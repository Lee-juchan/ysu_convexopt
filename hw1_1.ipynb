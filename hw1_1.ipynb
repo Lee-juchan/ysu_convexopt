{
 "cells": [
  {
   "cell_type": "code",
   "execution_count": 1,
   "metadata": {},
   "outputs": [],
   "source": [
    "# import\n",
    "import scipy.io as io\n",
    "import numpy as np\n",
    "import numpy.linalg as la"
   ]
  },
  {
   "cell_type": "code",
   "execution_count": 2,
   "metadata": {},
   "outputs": [],
   "source": [
    "# load data\n",
    "data = io.loadmat('./data/hw1_prob1.mat')\n",
    "# list(data)\n",
    "\n",
    "N = data['N'].item()    # scalar\n",
    "T = data['T']           # vector\n",
    "k = data['k']\n",
    "m = data['m']\n",
    "n = data['n']"
   ]
  },
  {
   "cell_type": "code",
   "execution_count": 3,
   "metadata": {},
   "outputs": [],
   "source": [
    "# Ax = b\n",
    "\n",
    "## Equation (T_hat)\n",
    "# T_hat = ɑ * k^β * m^γ * n^δ\n",
    "\n",
    "# log(T_hat) = log(ɑ) + β*log(k) * γ*log(m) * δ*log(n)\n",
    "# t_hat = ɑ_hat + β*k_hat + γ*m_hat + δ*n_hat               (log(T_hat) = t_hat)\n",
    "\n",
    "\n",
    "## Linear Equation (Ax = t_hat)\n",
    "# A = [ones(N,1), k_hat, m_hat, n_hat]      (Nx4)\n",
    "# x = [ɑ_hat, β, γ, δ]                      (4x1)\n",
    "# t_hat = A*x\n",
    "\n",
    "\n",
    "## cost function (J)\n",
    "# J = (log(T_hat / T))^2 = {t_hat - t}^2 = (t_hat - t)'*(t_hat - t)\n",
    "#   = x'*A'*A*x - 2*x'*A'*t + t'*t\n",
    "\n",
    "# grad_J = 2*A'*A*x - 2*A'*t = 0\n",
    "# x = inv(A'*A)*A'*t\n",
    "\n",
    "\n",
    "## solution\n",
    "# x_min = inv(A'*A)*A'*t      = [ɑ_hat, β, γ, δ]\n",
    "\n",
    "# ɑ = exp(x(1))\n",
    "# β = x(2)\n",
    "# γ = x(3)\n",
    "# δ = x(4)\n",
    "\n",
    "# J_min = x_min'*A'*A*x_min - 2*x_min'*A'*t + t'*t"
   ]
  },
  {
   "cell_type": "code",
   "execution_count": 4,
   "metadata": {},
   "outputs": [],
   "source": [
    "# t = A*x\n",
    "t = np.log(T)\n",
    "\n",
    "ones = np.ones((N, 1))\n",
    "k_hat = np.log(k)\n",
    "m_hat = np.log(m)\n",
    "n_hat = np.log(n)\n",
    "\n",
    "A = np.hstack([ones, k_hat, m_hat, n_hat])"
   ]
  },
  {
   "cell_type": "code",
   "execution_count": 5,
   "metadata": {},
   "outputs": [
    {
     "data": {
      "text/plain": [
       "array([[-32.3048564 ],\n",
       "       [  3.10621451],\n",
       "       [  1.09428864],\n",
       "       [  2.10779854]])"
      ]
     },
     "execution_count": 5,
     "metadata": {},
     "output_type": "execute_result"
    }
   ],
   "source": [
    "# x_min = inv(A'*A)*A'*t\n",
    "x = la.inv(A.T @ A) @ A.T @ t\n",
    "x"
   ]
  },
  {
   "cell_type": "code",
   "execution_count": 6,
   "metadata": {},
   "outputs": [
    {
     "name": "stdout",
     "output_type": "stream",
     "text": [
      "alpha = 9.336393043790004e-15\n",
      "beta = 3.1062145132106243\n",
      "gamma = 1.0942886405034953\n",
      "omega = 2.1077985379372293\n"
     ]
    }
   ],
   "source": [
    "# alpha, beta, gamma, omega\n",
    "a = np.exp(x[0]).item()\n",
    "b = x[1].item()\n",
    "g = x[2].item()\n",
    "o = x[3].item()\n",
    "\n",
    "print('alpha =', a)\n",
    "print('beta =', b)\n",
    "print('gamma =', g)\n",
    "print('omega =', o)"
   ]
  },
  {
   "cell_type": "code",
   "execution_count": 7,
   "metadata": {},
   "outputs": [
    {
     "name": "stdout",
     "output_type": "stream",
     "text": [
      "J = 0.3391625773906526\n"
     ]
    }
   ],
   "source": [
    "# J_min = x'A'Ax - 2x'A't + t't\n",
    "J = (x.T@A.T@A@x - 2*x.T@A.T@t + t.T@t).item()\n",
    "\n",
    "print('J =', J)"
   ]
  }
 ],
 "metadata": {
  "kernelspec": {
   "display_name": "opt",
   "language": "python",
   "name": "python3"
  },
  "language_info": {
   "codemirror_mode": {
    "name": "ipython",
    "version": 3
   },
   "file_extension": ".py",
   "mimetype": "text/x-python",
   "name": "python",
   "nbconvert_exporter": "python",
   "pygments_lexer": "ipython3",
   "version": "3.12.8"
  }
 },
 "nbformat": 4,
 "nbformat_minor": 2
}
