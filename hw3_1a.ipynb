{
 "cells": [
  {
   "cell_type": "code",
   "execution_count": 2,
   "metadata": {},
   "outputs": [],
   "source": [
    "''' import '''\n",
    "import scipy.io as io\n",
    "import numpy as np\n",
    "import numpy.linalg as la\n",
    "import matplotlib.pyplot as plt"
   ]
  },
  {
   "cell_type": "code",
   "execution_count": 3,
   "metadata": {},
   "outputs": [],
   "source": [
    "''' load data '''\n",
    "data = io.loadmat('./data/hw3_prob1a.mat')\n",
    "\n",
    "A = data['A']\n",
    "b = data['b']\n",
    "x_orig = data['x_orig']\n",
    "\n",
    "M, N = A.shape"
   ]
  },
  {
   "cell_type": "code",
   "execution_count": 4,
   "metadata": {},
   "outputs": [],
   "source": [
    "''' hyper param '''\n",
    "LAMBDA = 2\n",
    "MAXITERS = 10000\n",
    "CRIT = 1e-4\n",
    "\n",
    "t = 1/la.norm(A, 2)**2 # step size"
   ]
  },
  {
   "cell_type": "code",
   "execution_count": 5,
   "metadata": {},
   "outputs": [],
   "source": [
    "''' function '''\n",
    "def soft_thres(z, t):\n",
    "    return np.sign(z)*np.maximum(np.abs(z) - t, 0)"
   ]
  },
  {
   "cell_type": "code",
   "execution_count": null,
   "metadata": {},
   "outputs": [],
   "source": [
    "''' soft-threshold (ISTA) '''\n",
    "\n",
    "f_hist_ista = []\n",
    "xcond_hist_ista = []\n",
    "\n",
    "x = np.zeros((N, 1))\n",
    "\n",
    "for k in range(MAXITERS):\n",
    "\n",
    "    # f\n",
    "    f = 1/2*la.norm(A@x - b, 2)**2 + LAMBDA*la.norm(x, 1)   # f(x) = g(x) + h(x)\n",
    "    grad_g = A.T@(A@x - b)\n",
    "\n",
    "    # update x\n",
    "    x = soft_thres(x - t*grad_g, LAMBDA*t)\n",
    "\n",
    "    # stop condition\n",
    "    if (k >= 1) and (la.norm(x - x_prev, 2)/la.norm(x, 2) < CRIT):\n",
    "        break\n",
    "    \n",
    "    x_prev = x\n",
    "\n",
    "    # history\n",
    "    f_hist_ista.append(f)\n",
    "    xcond_hist_ista.append(la.norm(x - x_orig, 2))\n",
    "\n",
    "    print(f'i = {k}, f = {f}')\n",
    "\n",
    "# optimal\n",
    "x_ista = x"
   ]
  },
  {
   "cell_type": "code",
   "execution_count": null,
   "metadata": {},
   "outputs": [],
   "source": [
    "plt.title('ISTA')\n",
    "plt.plot(x_ista, linestyle='', marker='x', label='$x_{recon}$')\n",
    "plt.plot(x_orig, linestyle='', marker='.', label='$x_{orig}$')\n",
    "plt.legend()\n",
    "plt.show()"
   ]
  },
  {
   "cell_type": "code",
   "execution_count": null,
   "metadata": {},
   "outputs": [],
   "source": [
    "''' FISTA '''\n",
    "\n",
    "f_hist_fista = []\n",
    "xcond_hist_fista = []\n",
    "\n",
    "x = np.zeros((N, 1))\n",
    "y = x\n",
    "\n",
    "for k in range(MAXITERS):\n",
    "\n",
    "    # f\n",
    "    f = 1/2*la.norm(A@x - b)**2 + LAMBDA*la.norm(x, 1)\n",
    "    grad_gy = A.T@(A@y - b)\n",
    "\n",
    "    # update x, y\n",
    "    x = soft_thres(y - t*grad_gy, LAMBDA*t)\n",
    "    y = x + k/(k+3)*(x - x_prev)\n",
    "\n",
    "    # stop condition\n",
    "    if (k >= 1) and (la.norm(x - x_prev, 2)/la.norm(x, 2) < CRIT):\n",
    "        break\n",
    "    \n",
    "    x_prev = x\n",
    "    \n",
    "    # history\n",
    "    f_hist_fista.append(f)\n",
    "    xcond_hist_fista.append(la.norm(x - x_orig, 2))\n",
    "\n",
    "    print(f'i = {k}, f = {f}')\n",
    "\n",
    "# optimal\n",
    "x_fista = x"
   ]
  },
  {
   "cell_type": "code",
   "execution_count": null,
   "metadata": {},
   "outputs": [],
   "source": [
    "plt.title('FISTA')\n",
    "plt.plot(x_fista, linestyle='', marker='x', label='$x_{recon}$')\n",
    "plt.plot(x_orig, linestyle='', marker='.', label='$x_{orig}$')\n",
    "plt.legend()\n",
    "plt.show()"
   ]
  },
  {
   "cell_type": "code",
   "execution_count": null,
   "metadata": {},
   "outputs": [],
   "source": [
    "plt.title('Cost = $||x_k - x_{orig}||$')\n",
    "plt.semilogy(xcond_hist_ista, label='ISTA')\n",
    "plt.semilogy(xcond_hist_fista, label='FISTA')\n",
    "\n",
    "plt.xlabel('Iteration')\n",
    "plt.ylabel('Cost')\n",
    "plt.legend()\n",
    "plt.show()"
   ]
  }
 ],
 "metadata": {
  "kernelspec": {
   "display_name": "opt",
   "language": "python",
   "name": "python3"
  },
  "language_info": {
   "codemirror_mode": {
    "name": "ipython",
    "version": 3
   },
   "file_extension": ".py",
   "mimetype": "text/x-python",
   "name": "python",
   "nbconvert_exporter": "python",
   "pygments_lexer": "ipython3",
   "version": "3.12.8"
  }
 },
 "nbformat": 4,
 "nbformat_minor": 2
}
